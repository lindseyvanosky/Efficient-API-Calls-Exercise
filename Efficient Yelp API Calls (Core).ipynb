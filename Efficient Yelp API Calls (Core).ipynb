{
 "cells": [
  {
   "cell_type": "code",
   "execution_count": 1,
   "id": "bf6cd762",
   "metadata": {},
   "outputs": [],
   "source": [
    "import numpy as np\n",
    "import pandas as pd\n",
    "import matplotlib.pyplot as plt\n",
    "import seaborn as sns\n",
    "import os, json, math, time\n",
    "from yelpapi import YelpAPI\n",
    "from tqdm.notebook import tqdm_notebook\n",
    "\n"
   ]
  },
  {
   "cell_type": "code",
   "execution_count": 2,
   "id": "6bcfdda8",
   "metadata": {},
   "outputs": [],
   "source": [
    "with open('/Users/Lindsey/.secret/yelp_api.json') as f: \n",
    "    login = json.load(f)\n",
    "\n",
    "yelp_api = YelpAPI(login['api-key'], timeout_s=5.0)\n"
   ]
  },
  {
   "cell_type": "code",
   "execution_count": 3,
   "id": "aafc49b5",
   "metadata": {},
   "outputs": [],
   "source": [
    "LOCATION = \"Boston, MA, 02134\"\n",
    "TERM = \"Lobster Roll\""
   ]
  },
  {
   "cell_type": "code",
   "execution_count": 4,
   "id": "370fe14e",
   "metadata": {},
   "outputs": [
    {
     "data": {
      "text/plain": [
       "'Data/results_in_progress_Lobster_Roll.json'"
      ]
     },
     "execution_count": 4,
     "metadata": {},
     "output_type": "execute_result"
    }
   ],
   "source": [
    "JSON_FILE = f\"Data/results_in_progress_Lobster_Roll.json\"\n",
    "JSON_FILE\n",
    "\n"
   ]
  },
  {
   "cell_type": "code",
   "execution_count": 5,
   "id": "5691f05a",
   "metadata": {},
   "outputs": [
    {
     "name": "stdout",
     "output_type": "stream",
     "text": [
      "[i] Data/results_in_progress_Lobster_Roll.json not found. Saving empty list to file.\n"
     ]
    }
   ],
   "source": [
    "file_exists = os.path.isfile(JSON_FILE)\n",
    "\n",
    "if file_exists == False:\n",
    "    folder = os.path.dirname(JSON_FILE)\n",
    "  \n",
    "    if len(folder)>0:\n",
    "       \n",
    "        os.makedirs(folder,exist_ok=True)\n",
    "        \n",
    "        \n",
    "    print(f\"[i] {JSON_FILE} not found. Saving empty list to file.\")\n",
    "    \n",
    "    \n",
    "    with open(JSON_FILE,'w') as f:\n",
    "        json.dump([],f)  \n",
    "else:\n",
    "    print(f\"[i] {JSON_FILE} already exists.\")\n",
    "\n"
   ]
  },
  {
   "cell_type": "code",
   "execution_count": 6,
   "id": "6c050500",
   "metadata": {},
   "outputs": [
    {
     "name": "stdout",
     "output_type": "stream",
     "text": [
      "- 0 previous results found.\n"
     ]
    }
   ],
   "source": [
    "with open(JSON_FILE,'r') as f:\n",
    "    previous_results = json.load(f)\n",
    "    \n",
    "n_results = len(previous_results)\n",
    "print(f'- {n_results} previous results found.')\n",
    "\n"
   ]
  },
  {
   "cell_type": "code",
   "execution_count": 7,
   "id": "fd97cc1c",
   "metadata": {},
   "outputs": [
    {
     "data": {
      "text/plain": [
       "dict_keys(['businesses', 'total', 'region'])"
      ]
     },
     "execution_count": 7,
     "metadata": {},
     "output_type": "execute_result"
    }
   ],
   "source": [
    "results = yelp_api.search_query(location=LOCATION,\n",
    "                                term=TERM,\n",
    "                               offset=n_results)\n",
    "results.keys()"
   ]
  },
  {
   "cell_type": "code",
   "execution_count": 8,
   "id": "79d51beb",
   "metadata": {},
   "outputs": [
    {
     "data": {
      "text/plain": [
       "202"
      ]
     },
     "execution_count": 8,
     "metadata": {},
     "output_type": "execute_result"
    }
   ],
   "source": [
    "total_results = results['total']\n",
    "total_results"
   ]
  },
  {
   "cell_type": "code",
   "execution_count": 9,
   "id": "a4783405",
   "metadata": {},
   "outputs": [
    {
     "data": {
      "text/plain": [
       "20"
      ]
     },
     "execution_count": 9,
     "metadata": {},
     "output_type": "execute_result"
    }
   ],
   "source": [
    "results_per_page = len(results['businesses'])\n",
    "results_per_page\n",
    "\n"
   ]
  },
  {
   "cell_type": "code",
   "execution_count": 10,
   "id": "c160e570",
   "metadata": {},
   "outputs": [
    {
     "data": {
      "text/plain": [
       "11"
      ]
     },
     "execution_count": 10,
     "metadata": {},
     "output_type": "execute_result"
    }
   ],
   "source": [
    "n_pages = math.ceil((results['total']-n_results)/ results_per_page)\n",
    "n_pages"
   ]
  },
  {
   "cell_type": "code",
   "execution_count": 11,
   "id": "4874f82b",
   "metadata": {},
   "outputs": [],
   "source": [
    "previous_results.extend(results['businesses'])  \n",
    "with open(JSON_FILE,'w') as f:\n",
    "     json.dump(previous_results,f)"
   ]
  },
  {
   "cell_type": "code",
   "execution_count": 12,
   "id": "98b85b4c",
   "metadata": {},
   "outputs": [
    {
     "data": {
      "application/vnd.jupyter.widget-view+json": {
       "model_id": "b0a569f826e64fc4b90aed275fa6e56b",
       "version_major": 2,
       "version_minor": 0
      },
      "text/plain": [
       "  0%|          | 0/11 [00:00<?, ?it/s]"
      ]
     },
     "metadata": {},
     "output_type": "display_data"
    }
   ],
   "source": [
    "for i in tqdm_notebook(range(n_pages)):\n",
    "    time.sleep(.2) "
   ]
  },
  {
   "cell_type": "code",
   "execution_count": 13,
   "id": "c0b77838",
   "metadata": {},
   "outputs": [
    {
     "data": {
      "application/vnd.jupyter.widget-view+json": {
       "model_id": "17ca7ac5079b41d99cf4062d9b8003fc",
       "version_major": 2,
       "version_minor": 0
      },
      "text/plain": [
       "  0%|          | 0/11 [00:00<?, ?it/s]"
      ]
     },
     "metadata": {},
     "output_type": "display_data"
    }
   ],
   "source": [
    "for i in tqdm_notebook( range(1,n_pages+1)):\n",
    "    time.sleep(.2)\n",
    "    with open(JSON_FILE, 'r') as f:\n",
    "        previous_results = json.load(f)\n",
    "    n_results = len(previous_results)\n",
    "    results = yelp_api.search_query(location=LOCATION,\n",
    "                                    term=TERM, \n",
    "                                    offset=n_results)\n",
    "    \n",
    "    previous_results.extend(results['businesses'])\n",
    "    \n",
    "    with open(JSON_FILE,'w') as f:\n",
    "        json.dump(previous_results,f)"
   ]
  },
  {
   "cell_type": "code",
   "execution_count": 14,
   "id": "835c86b7",
   "metadata": {},
   "outputs": [
    {
     "data": {
      "text/html": [
       "<div>\n",
       "<style scoped>\n",
       "    .dataframe tbody tr th:only-of-type {\n",
       "        vertical-align: middle;\n",
       "    }\n",
       "\n",
       "    .dataframe tbody tr th {\n",
       "        vertical-align: top;\n",
       "    }\n",
       "\n",
       "    .dataframe thead th {\n",
       "        text-align: right;\n",
       "    }\n",
       "</style>\n",
       "<table border=\"1\" class=\"dataframe\">\n",
       "  <thead>\n",
       "    <tr style=\"text-align: right;\">\n",
       "      <th></th>\n",
       "      <th>id</th>\n",
       "      <th>alias</th>\n",
       "      <th>name</th>\n",
       "      <th>image_url</th>\n",
       "      <th>is_closed</th>\n",
       "      <th>url</th>\n",
       "      <th>review_count</th>\n",
       "      <th>categories</th>\n",
       "      <th>rating</th>\n",
       "      <th>coordinates</th>\n",
       "      <th>transactions</th>\n",
       "      <th>price</th>\n",
       "      <th>location</th>\n",
       "      <th>phone</th>\n",
       "      <th>display_phone</th>\n",
       "      <th>distance</th>\n",
       "    </tr>\n",
       "  </thead>\n",
       "  <tbody>\n",
       "    <tr>\n",
       "      <th>0</th>\n",
       "      <td>T5_3LoIuOnilA7Z5sdfGJA</td>\n",
       "      <td>alive-and-kicking-lobsters-cambridge</td>\n",
       "      <td>Alive &amp; Kicking Lobsters</td>\n",
       "      <td>https://s3-media3.fl.yelpcdn.com/bphoto/wiNauY...</td>\n",
       "      <td>False</td>\n",
       "      <td>https://www.yelp.com/biz/alive-and-kicking-lob...</td>\n",
       "      <td>913</td>\n",
       "      <td>[{'alias': 'seafood', 'title': 'Seafood'}, {'a...</td>\n",
       "      <td>4.5</td>\n",
       "      <td>{'latitude': 42.362678527832, 'longitude': -71...</td>\n",
       "      <td>[delivery]</td>\n",
       "      <td>$$</td>\n",
       "      <td>{'address1': '269 Putnam Ave', 'address2': '',...</td>\n",
       "      <td>+16178760451</td>\n",
       "      <td>(617) 876-0451</td>\n",
       "      <td>1170.763247</td>\n",
       "    </tr>\n",
       "    <tr>\n",
       "      <th>1</th>\n",
       "      <td>op2-8aK7VaNvXG8Yxas35g</td>\n",
       "      <td>the-hourly-oyster-house-cambridge</td>\n",
       "      <td>The Hourly Oyster House</td>\n",
       "      <td>https://s3-media2.fl.yelpcdn.com/bphoto/1A9Ctb...</td>\n",
       "      <td>False</td>\n",
       "      <td>https://www.yelp.com/biz/the-hourly-oyster-hou...</td>\n",
       "      <td>434</td>\n",
       "      <td>[{'alias': 'seafood', 'title': 'Seafood'}, {'a...</td>\n",
       "      <td>4.0</td>\n",
       "      <td>{'latitude': 42.37291, 'longitude': -71.11904}</td>\n",
       "      <td>[delivery, pickup]</td>\n",
       "      <td>$$$</td>\n",
       "      <td>{'address1': '15 Dunster St', 'address2': None...</td>\n",
       "      <td>+16177652342</td>\n",
       "      <td>(617) 765-2342</td>\n",
       "      <td>1631.375282</td>\n",
       "    </tr>\n",
       "    <tr>\n",
       "      <th>2</th>\n",
       "      <td>HUtHbHjyu114ptcilT_M6g</td>\n",
       "      <td>the-daily-catch-brookline</td>\n",
       "      <td>The Daily Catch</td>\n",
       "      <td>https://s3-media3.fl.yelpcdn.com/bphoto/1hzWA0...</td>\n",
       "      <td>False</td>\n",
       "      <td>https://www.yelp.com/biz/the-daily-catch-brook...</td>\n",
       "      <td>438</td>\n",
       "      <td>[{'alias': 'seafood', 'title': 'Seafood'}]</td>\n",
       "      <td>4.0</td>\n",
       "      <td>{'latitude': 42.34611, 'longitude': -71.12766}</td>\n",
       "      <td>[delivery, pickup]</td>\n",
       "      <td>$$</td>\n",
       "      <td>{'address1': '441 Harvard St', 'address2': '',...</td>\n",
       "      <td>+16177342700</td>\n",
       "      <td>(617) 734-2700</td>\n",
       "      <td>1471.971377</td>\n",
       "    </tr>\n",
       "    <tr>\n",
       "      <th>3</th>\n",
       "      <td>i6uHrxuS1D_6V8WhaWLy5A</td>\n",
       "      <td>lukes-lobster-back-bay-boston</td>\n",
       "      <td>Luke's Lobster Back Bay</td>\n",
       "      <td>https://s3-media1.fl.yelpcdn.com/bphoto/EnMeIE...</td>\n",
       "      <td>False</td>\n",
       "      <td>https://www.yelp.com/biz/lukes-lobster-back-ba...</td>\n",
       "      <td>1925</td>\n",
       "      <td>[{'alias': 'seafood', 'title': 'Seafood'}, {'a...</td>\n",
       "      <td>4.0</td>\n",
       "      <td>{'latitude': 42.34869123638961, 'longitude': -...</td>\n",
       "      <td>[delivery, pickup]</td>\n",
       "      <td>$$</td>\n",
       "      <td>{'address1': '75 Exeter Street', 'address2': '...</td>\n",
       "      <td>+18573504626</td>\n",
       "      <td>(857) 350-4626</td>\n",
       "      <td>4132.803723</td>\n",
       "    </tr>\n",
       "    <tr>\n",
       "      <th>4</th>\n",
       "      <td>JZUTavw4SsZ-iiExULq1_g</td>\n",
       "      <td>lobstah-on-a-roll-boston-2</td>\n",
       "      <td>Lobstah On A Roll</td>\n",
       "      <td>https://s3-media2.fl.yelpcdn.com/bphoto/ZdYDW-...</td>\n",
       "      <td>False</td>\n",
       "      <td>https://www.yelp.com/biz/lobstah-on-a-roll-bos...</td>\n",
       "      <td>115</td>\n",
       "      <td>[{'alias': 'seafood', 'title': 'Seafood'}, {'a...</td>\n",
       "      <td>4.0</td>\n",
       "      <td>{'latitude': 42.34928, 'longitude': -71.08272}</td>\n",
       "      <td>[delivery, pickup]</td>\n",
       "      <td>$$</td>\n",
       "      <td>{'address1': '254 Newbury St', 'address2': Non...</td>\n",
       "      <td>+16174312284</td>\n",
       "      <td>(617) 431-2284</td>\n",
       "      <td>3839.367035</td>\n",
       "    </tr>\n",
       "  </tbody>\n",
       "</table>\n",
       "</div>"
      ],
      "text/plain": [
       "                       id                                 alias  \\\n",
       "0  T5_3LoIuOnilA7Z5sdfGJA  alive-and-kicking-lobsters-cambridge   \n",
       "1  op2-8aK7VaNvXG8Yxas35g     the-hourly-oyster-house-cambridge   \n",
       "2  HUtHbHjyu114ptcilT_M6g             the-daily-catch-brookline   \n",
       "3  i6uHrxuS1D_6V8WhaWLy5A         lukes-lobster-back-bay-boston   \n",
       "4  JZUTavw4SsZ-iiExULq1_g            lobstah-on-a-roll-boston-2   \n",
       "\n",
       "                       name  \\\n",
       "0  Alive & Kicking Lobsters   \n",
       "1   The Hourly Oyster House   \n",
       "2           The Daily Catch   \n",
       "3   Luke's Lobster Back Bay   \n",
       "4         Lobstah On A Roll   \n",
       "\n",
       "                                           image_url  is_closed  \\\n",
       "0  https://s3-media3.fl.yelpcdn.com/bphoto/wiNauY...      False   \n",
       "1  https://s3-media2.fl.yelpcdn.com/bphoto/1A9Ctb...      False   \n",
       "2  https://s3-media3.fl.yelpcdn.com/bphoto/1hzWA0...      False   \n",
       "3  https://s3-media1.fl.yelpcdn.com/bphoto/EnMeIE...      False   \n",
       "4  https://s3-media2.fl.yelpcdn.com/bphoto/ZdYDW-...      False   \n",
       "\n",
       "                                                 url  review_count  \\\n",
       "0  https://www.yelp.com/biz/alive-and-kicking-lob...           913   \n",
       "1  https://www.yelp.com/biz/the-hourly-oyster-hou...           434   \n",
       "2  https://www.yelp.com/biz/the-daily-catch-brook...           438   \n",
       "3  https://www.yelp.com/biz/lukes-lobster-back-ba...          1925   \n",
       "4  https://www.yelp.com/biz/lobstah-on-a-roll-bos...           115   \n",
       "\n",
       "                                          categories  rating  \\\n",
       "0  [{'alias': 'seafood', 'title': 'Seafood'}, {'a...     4.5   \n",
       "1  [{'alias': 'seafood', 'title': 'Seafood'}, {'a...     4.0   \n",
       "2         [{'alias': 'seafood', 'title': 'Seafood'}]     4.0   \n",
       "3  [{'alias': 'seafood', 'title': 'Seafood'}, {'a...     4.0   \n",
       "4  [{'alias': 'seafood', 'title': 'Seafood'}, {'a...     4.0   \n",
       "\n",
       "                                         coordinates        transactions  \\\n",
       "0  {'latitude': 42.362678527832, 'longitude': -71...          [delivery]   \n",
       "1     {'latitude': 42.37291, 'longitude': -71.11904}  [delivery, pickup]   \n",
       "2     {'latitude': 42.34611, 'longitude': -71.12766}  [delivery, pickup]   \n",
       "3  {'latitude': 42.34869123638961, 'longitude': -...  [delivery, pickup]   \n",
       "4     {'latitude': 42.34928, 'longitude': -71.08272}  [delivery, pickup]   \n",
       "\n",
       "  price                                           location         phone  \\\n",
       "0    $$  {'address1': '269 Putnam Ave', 'address2': '',...  +16178760451   \n",
       "1   $$$  {'address1': '15 Dunster St', 'address2': None...  +16177652342   \n",
       "2    $$  {'address1': '441 Harvard St', 'address2': '',...  +16177342700   \n",
       "3    $$  {'address1': '75 Exeter Street', 'address2': '...  +18573504626   \n",
       "4    $$  {'address1': '254 Newbury St', 'address2': Non...  +16174312284   \n",
       "\n",
       "    display_phone     distance  \n",
       "0  (617) 876-0451  1170.763247  \n",
       "1  (617) 765-2342  1631.375282  \n",
       "2  (617) 734-2700  1471.971377  \n",
       "3  (857) 350-4626  4132.803723  \n",
       "4  (617) 431-2284  3839.367035  "
      ]
     },
     "metadata": {},
     "output_type": "display_data"
    },
    {
     "data": {
      "text/html": [
       "<div>\n",
       "<style scoped>\n",
       "    .dataframe tbody tr th:only-of-type {\n",
       "        vertical-align: middle;\n",
       "    }\n",
       "\n",
       "    .dataframe tbody tr th {\n",
       "        vertical-align: top;\n",
       "    }\n",
       "\n",
       "    .dataframe thead th {\n",
       "        text-align: right;\n",
       "    }\n",
       "</style>\n",
       "<table border=\"1\" class=\"dataframe\">\n",
       "  <thead>\n",
       "    <tr style=\"text-align: right;\">\n",
       "      <th></th>\n",
       "      <th>id</th>\n",
       "      <th>alias</th>\n",
       "      <th>name</th>\n",
       "      <th>image_url</th>\n",
       "      <th>is_closed</th>\n",
       "      <th>url</th>\n",
       "      <th>review_count</th>\n",
       "      <th>categories</th>\n",
       "      <th>rating</th>\n",
       "      <th>coordinates</th>\n",
       "      <th>transactions</th>\n",
       "      <th>price</th>\n",
       "      <th>location</th>\n",
       "      <th>phone</th>\n",
       "      <th>display_phone</th>\n",
       "      <th>distance</th>\n",
       "    </tr>\n",
       "  </thead>\n",
       "  <tbody>\n",
       "    <tr>\n",
       "      <th>197</th>\n",
       "      <td>JzUlNRnJ2d10dZgKYHzdeg</td>\n",
       "      <td>seiyo-boston</td>\n",
       "      <td>Seiyo</td>\n",
       "      <td>https://s3-media3.fl.yelpcdn.com/bphoto/5Mz_6b...</td>\n",
       "      <td>False</td>\n",
       "      <td>https://www.yelp.com/biz/seiyo-boston?adjust_c...</td>\n",
       "      <td>243</td>\n",
       "      <td>[{'alias': 'sushi', 'title': 'Sushi Bars'}, {'...</td>\n",
       "      <td>3.5</td>\n",
       "      <td>{'latitude': 42.337133, 'longitude': -71.076848}</td>\n",
       "      <td>[pickup, delivery]</td>\n",
       "      <td>$$</td>\n",
       "      <td>{'address1': '1721 Washington St', 'address2':...</td>\n",
       "      <td>+16174472183</td>\n",
       "      <td>(617) 447-2183</td>\n",
       "      <td>4837.197671</td>\n",
       "    </tr>\n",
       "    <tr>\n",
       "      <th>198</th>\n",
       "      <td>XgJWwSXomuSblxFBE-AxpA</td>\n",
       "      <td>petit-robert-bistro-boston-3</td>\n",
       "      <td>Petit Robert Bistro</td>\n",
       "      <td>https://s3-media1.fl.yelpcdn.com/bphoto/aWNVmS...</td>\n",
       "      <td>False</td>\n",
       "      <td>https://www.yelp.com/biz/petit-robert-bistro-b...</td>\n",
       "      <td>490</td>\n",
       "      <td>[{'alias': 'french', 'title': 'French'}, {'ali...</td>\n",
       "      <td>3.5</td>\n",
       "      <td>{'latitude': 42.34283, 'longitude': -71.07858}</td>\n",
       "      <td>[pickup, delivery]</td>\n",
       "      <td>$$</td>\n",
       "      <td>{'address1': '480 Columbus Ave', 'address2': '...</td>\n",
       "      <td>+16178670600</td>\n",
       "      <td>(617) 867-0600</td>\n",
       "      <td>4414.367462</td>\n",
       "    </tr>\n",
       "    <tr>\n",
       "      <th>199</th>\n",
       "      <td>GwUD1wRUcKv__r2bv_CpJw</td>\n",
       "      <td>the-westin-copley-place-boston-boston-3</td>\n",
       "      <td>The Westin Copley Place, Boston</td>\n",
       "      <td>https://s3-media2.fl.yelpcdn.com/bphoto/KTRAis...</td>\n",
       "      <td>False</td>\n",
       "      <td>https://www.yelp.com/biz/the-westin-copley-pla...</td>\n",
       "      <td>413</td>\n",
       "      <td>[{'alias': 'hotels', 'title': 'Hotels'}, {'ali...</td>\n",
       "      <td>3.5</td>\n",
       "      <td>{'latitude': 42.348324, 'longitude': -71.077464}</td>\n",
       "      <td>[]</td>\n",
       "      <td>$$$</td>\n",
       "      <td>{'address1': '10 Huntington Ave', 'address2': ...</td>\n",
       "      <td>+16172629600</td>\n",
       "      <td>(617) 262-9600</td>\n",
       "      <td>4283.300841</td>\n",
       "    </tr>\n",
       "    <tr>\n",
       "      <th>200</th>\n",
       "      <td>Sevr2MzD_5cQbIXI-HkM8Q</td>\n",
       "      <td>sheraton-boston-hotel-boston</td>\n",
       "      <td>Sheraton Boston Hotel</td>\n",
       "      <td>https://s3-media1.fl.yelpcdn.com/bphoto/oa90Pg...</td>\n",
       "      <td>False</td>\n",
       "      <td>https://www.yelp.com/biz/sheraton-boston-hotel...</td>\n",
       "      <td>507</td>\n",
       "      <td>[{'alias': 'hotels', 'title': 'Hotels'}, {'ali...</td>\n",
       "      <td>3.0</td>\n",
       "      <td>{'latitude': 42.3462530906186, 'longitude': -7...</td>\n",
       "      <td>[]</td>\n",
       "      <td>$$$</td>\n",
       "      <td>{'address1': '39 Dalton Street', 'address2': '...</td>\n",
       "      <td>+16172362000</td>\n",
       "      <td>(617) 236-2000</td>\n",
       "      <td>3825.287685</td>\n",
       "    </tr>\n",
       "    <tr>\n",
       "      <th>201</th>\n",
       "      <td>xLezzT2Xn2vTCNMbVrf7zw</td>\n",
       "      <td>typhoon-asian-bistro-boston</td>\n",
       "      <td>Typhoon Asian Bistro</td>\n",
       "      <td>https://s3-media2.fl.yelpcdn.com/bphoto/ib1zXs...</td>\n",
       "      <td>False</td>\n",
       "      <td>https://www.yelp.com/biz/typhoon-asian-bistro-...</td>\n",
       "      <td>294</td>\n",
       "      <td>[{'alias': 'japanese', 'title': 'Japanese'}, {...</td>\n",
       "      <td>3.0</td>\n",
       "      <td>{'latitude': 42.3496, 'longitude': -71.08016}</td>\n",
       "      <td>[delivery, pickup]</td>\n",
       "      <td>$$</td>\n",
       "      <td>{'address1': '725 Boylston St', 'address2': ''...</td>\n",
       "      <td>+16178598181</td>\n",
       "      <td>(617) 859-8181</td>\n",
       "      <td>4031.310040</td>\n",
       "    </tr>\n",
       "  </tbody>\n",
       "</table>\n",
       "</div>"
      ],
      "text/plain": [
       "                         id                                    alias  \\\n",
       "197  JzUlNRnJ2d10dZgKYHzdeg                             seiyo-boston   \n",
       "198  XgJWwSXomuSblxFBE-AxpA             petit-robert-bistro-boston-3   \n",
       "199  GwUD1wRUcKv__r2bv_CpJw  the-westin-copley-place-boston-boston-3   \n",
       "200  Sevr2MzD_5cQbIXI-HkM8Q             sheraton-boston-hotel-boston   \n",
       "201  xLezzT2Xn2vTCNMbVrf7zw              typhoon-asian-bistro-boston   \n",
       "\n",
       "                                name  \\\n",
       "197                            Seiyo   \n",
       "198              Petit Robert Bistro   \n",
       "199  The Westin Copley Place, Boston   \n",
       "200            Sheraton Boston Hotel   \n",
       "201             Typhoon Asian Bistro   \n",
       "\n",
       "                                             image_url  is_closed  \\\n",
       "197  https://s3-media3.fl.yelpcdn.com/bphoto/5Mz_6b...      False   \n",
       "198  https://s3-media1.fl.yelpcdn.com/bphoto/aWNVmS...      False   \n",
       "199  https://s3-media2.fl.yelpcdn.com/bphoto/KTRAis...      False   \n",
       "200  https://s3-media1.fl.yelpcdn.com/bphoto/oa90Pg...      False   \n",
       "201  https://s3-media2.fl.yelpcdn.com/bphoto/ib1zXs...      False   \n",
       "\n",
       "                                                   url  review_count  \\\n",
       "197  https://www.yelp.com/biz/seiyo-boston?adjust_c...           243   \n",
       "198  https://www.yelp.com/biz/petit-robert-bistro-b...           490   \n",
       "199  https://www.yelp.com/biz/the-westin-copley-pla...           413   \n",
       "200  https://www.yelp.com/biz/sheraton-boston-hotel...           507   \n",
       "201  https://www.yelp.com/biz/typhoon-asian-bistro-...           294   \n",
       "\n",
       "                                            categories  rating  \\\n",
       "197  [{'alias': 'sushi', 'title': 'Sushi Bars'}, {'...     3.5   \n",
       "198  [{'alias': 'french', 'title': 'French'}, {'ali...     3.5   \n",
       "199  [{'alias': 'hotels', 'title': 'Hotels'}, {'ali...     3.5   \n",
       "200  [{'alias': 'hotels', 'title': 'Hotels'}, {'ali...     3.0   \n",
       "201  [{'alias': 'japanese', 'title': 'Japanese'}, {...     3.0   \n",
       "\n",
       "                                           coordinates        transactions  \\\n",
       "197   {'latitude': 42.337133, 'longitude': -71.076848}  [pickup, delivery]   \n",
       "198     {'latitude': 42.34283, 'longitude': -71.07858}  [pickup, delivery]   \n",
       "199   {'latitude': 42.348324, 'longitude': -71.077464}                  []   \n",
       "200  {'latitude': 42.3462530906186, 'longitude': -7...                  []   \n",
       "201      {'latitude': 42.3496, 'longitude': -71.08016}  [delivery, pickup]   \n",
       "\n",
       "    price                                           location         phone  \\\n",
       "197    $$  {'address1': '1721 Washington St', 'address2':...  +16174472183   \n",
       "198    $$  {'address1': '480 Columbus Ave', 'address2': '...  +16178670600   \n",
       "199   $$$  {'address1': '10 Huntington Ave', 'address2': ...  +16172629600   \n",
       "200   $$$  {'address1': '39 Dalton Street', 'address2': '...  +16172362000   \n",
       "201    $$  {'address1': '725 Boylston St', 'address2': ''...  +16178598181   \n",
       "\n",
       "      display_phone     distance  \n",
       "197  (617) 447-2183  4837.197671  \n",
       "198  (617) 867-0600  4414.367462  \n",
       "199  (617) 262-9600  4283.300841  \n",
       "200  (617) 236-2000  3825.287685  \n",
       "201  (617) 859-8181  4031.310040  "
      ]
     },
     "metadata": {},
     "output_type": "display_data"
    }
   ],
   "source": [
    "final_df = pd.read_json(JSON_FILE)\n",
    "display(final_df.head(), final_df.tail())\n"
   ]
  },
  {
   "cell_type": "code",
   "execution_count": 15,
   "id": "0bf11e6e",
   "metadata": {},
   "outputs": [
    {
     "data": {
      "text/plain": [
       "1"
      ]
     },
     "execution_count": 15,
     "metadata": {},
     "output_type": "execute_result"
    }
   ],
   "source": [
    "final_df.duplicated(subset='id').sum()\n",
    "\n"
   ]
  },
  {
   "cell_type": "code",
   "execution_count": 16,
   "id": "bb46c7fa",
   "metadata": {},
   "outputs": [],
   "source": [
    "final_df.drop_duplicates(subset = \"id\", inplace = True)"
   ]
  },
  {
   "cell_type": "code",
   "execution_count": 17,
   "id": "5ee1f7db",
   "metadata": {},
   "outputs": [
    {
     "data": {
      "text/plain": [
       "0"
      ]
     },
     "execution_count": 17,
     "metadata": {},
     "output_type": "execute_result"
    }
   ],
   "source": [
    "final_df.duplicated(subset='id').sum()\n"
   ]
  },
  {
   "cell_type": "code",
   "execution_count": 18,
   "id": "14ec66e7",
   "metadata": {},
   "outputs": [],
   "source": [
    "final_df.to_csv('Data/final_results_Lobster_Roll.csv.gz', compression='gzip',index=False)\n",
    "\n"
   ]
  }
 ],
 "metadata": {
  "kernelspec": {
   "display_name": "Python (dojo-env)",
   "language": "python",
   "name": "dojo-env"
  },
  "language_info": {
   "codemirror_mode": {
    "name": "ipython",
    "version": 3
   },
   "file_extension": ".py",
   "mimetype": "text/x-python",
   "name": "python",
   "nbconvert_exporter": "python",
   "pygments_lexer": "ipython3",
   "version": "3.8.13"
  }
 },
 "nbformat": 4,
 "nbformat_minor": 5
}
